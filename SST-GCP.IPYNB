{
 "cells": [
  {
   "cell_type": "markdown",
   "metadata": {},
   "source": [
    "# **🎙️ Proyecto de Reconocimiento de Voz a Texto usando Google Cloud Speech-to-Text**\n",
    "Este proyecto utiliza la API de Google Cloud Speech-to-Text para transcribir audio en texto. A través de este proceso, se configuran las credenciales, se carga un archivo de audio y se realiza la transcripción.\n",
    "\n",
    "🎯 Objetivo\n",
    "El objetivo de este proyecto es implementar la tecnología de reconocimiento de voz a texto de Google Cloud para convertir archivos de audio en texto de manera precisa y eficiente. Utilizando esta API, se busca facilitar la transcripción de conversaciones o grabaciones en formato de texto, lo que tiene aplicaciones clave en campos como la accesibilidad, la automatización de transcripciones, y la creación de sistemas de interacción por voz más avanzados. Este proyecto permite explorar la integración de servicios de inteligencia artificial que ayudan a mejorar la interacción humana-máquina, proporcionando soluciones innovadoras en áreas como la atención al cliente, la toma de notas automáticas y los asistentes virtuales."
   ]
  },
  {
   "cell_type": "markdown",
   "metadata": {},
   "source": [
    "# Requisitos\n",
    "Librerías necesarias:\n",
    "google-cloud-speech: Para interactuar con la API de Speech-to-Text.\n",
    "pydub: Para manejar y convertir archivos de audio a un formato compatible.\n",
    "pydub.playback: Para reproducir archivos de audio."
   ]
  },
  {
   "cell_type": "code",
   "execution_count": 19,
   "metadata": {},
   "outputs": [
    {
     "name": "stdout",
     "output_type": "stream",
     "text": [
      "Note: you may need to restart the kernel to use updated packages.\n"
     ]
    }
   ],
   "source": [
    "pip install google-cloud-speech pydub pyaudio -q"
   ]
  },
  {
   "cell_type": "markdown",
   "metadata": {},
   "source": [
    "## Configuración de Autenticación\n",
    "\n",
    "Configura tus credenciales para Google Cloud de forma similar a Text-to-Speech:"
   ]
  },
  {
   "cell_type": "code",
   "execution_count": 2,
   "metadata": {},
   "outputs": [],
   "source": [
    "import os\n",
    "os.environ[\"GOOGLE_APPLICATION_CREDENTIALS\"] = r\"E:\\proyecto\\STT-GCP\\CREDENCIAL.json\""
   ]
  },
  {
   "cell_type": "markdown",
   "metadata": {},
   "source": [
    "# Inicialización del Cliente de Speech-to-Text\n",
    "Creamos un cliente para interactuar con la API de Google Cloud Speech-to-Text:"
   ]
  },
  {
   "cell_type": "code",
   "execution_count": 3,
   "metadata": {},
   "outputs": [],
   "source": [
    "from google.cloud import speech\n",
    "\n",
    "# Crear el cliente\n",
    "client = speech.SpeechClient()"
   ]
  },
  {
   "cell_type": "markdown",
   "metadata": {},
   "source": [
    "## Conversión de Audio a Formato FLAC\n",
    "Google Cloud Speech-to-Text funciona mejor con archivos en formato FLAC o LINEAR16. Usamos pydub para convertir el archivo de audio si es necesario:"
   ]
  },
  {
   "cell_type": "code",
   "execution_count": 18,
   "metadata": {},
   "outputs": [],
   "source": [
    "from pydub import AudioSegment\n",
    "\n",
    "def convertir_audio(input_path, output_path=\"output1.flac\"):\n",
    "    audio = AudioSegment.from_file(input_path)\n",
    "    audio.export(output_path, format=\"flac\")\n",
    "    return output_path"
   ]
  },
  {
   "cell_type": "markdown",
   "metadata": {},
   "source": [
    "## Grabación de Audio desde el Micrófono\n",
    "\n",
    "Usamos la librería pyaudio para grabar audio desde el micrófono:"
   ]
  },
  {
   "cell_type": "code",
   "execution_count": 12,
   "metadata": {},
   "outputs": [],
   "source": [
    "import pyaudio\n",
    "import wave\n",
    "\n",
    "# Configuración para la grabación\n",
    "FORMAT = pyaudio.paInt16\n",
    "CHANNELS = 1\n",
    "RATE = 16000\n",
    "CHUNK = 1024\n",
    "TIMEOUT = 2\n",
    "\n",
    "# Inicialización de pyaudio\n",
    "p = pyaudio.PyAudio()\n",
    "\n",
    "def grabar_audio():\n",
    "    stream = p.open(format=FORMAT, channels=CHANNELS,\n",
    "                    rate=RATE, input=True, frames_per_buffer=CHUNK)\n",
    "    print(\"Grabando...\")\n",
    "\n",
    "    frames = []\n",
    "    for i in range(0, int(RATE / CHUNK * TIMEOUT)):  # Graba durante TIMEOUT segundos\n",
    "        data = stream.read(CHUNK)\n",
    "        frames.append(data)\n",
    "\n",
    "    stream.stop_stream()\n",
    "    stream.close()\n",
    "\n",
    "    # Guardar el archivo de audio\n",
    "    archivo_audio = \"audio_grabado.wav\"\n",
    "    wf = wave.open(archivo_audio, 'wb')\n",
    "    wf.setnchannels(CHANNELS)\n",
    "    wf.setsampwidth(p.get_sample_size(FORMAT))\n",
    "    wf.setframerate(RATE)\n",
    "    wf.writeframes(b''.join(frames))\n",
    "    wf.close()\n",
    "\n",
    "    return archivo_audio"
   ]
  },
  {
   "cell_type": "markdown",
   "metadata": {},
   "source": [
    "## Transcripción del Audio con Google Cloud\n",
    "\n",
    "Una vez que tenemos el archivo de audio grabado, podemos enviarlo a la API para transcribirlo a texto:"
   ]
  },
  {
   "cell_type": "code",
   "execution_count": 7,
   "metadata": {},
   "outputs": [],
   "source": [
    "def transcribir_audio(audio_path):\n",
    "    with open(audio_path, \"rb\") as audio_file:\n",
    "        audio_content = audio_file.read()\n",
    "\n",
    "    audio = speech.RecognitionAudio(content=audio_content)\n",
    "    config = speech.RecognitionConfig(\n",
    "    encoding=speech.RecognitionConfig.AudioEncoding.LINEAR16,  # Cambio aquí\n",
    "    sample_rate_hertz=16000,  # Ajusta según la frecuencia de tu audio\n",
    "    language_code=\"es-ES\",   # Idioma español\n",
    ")\n",
    "\n",
    "    response = client.recognize(config=config, audio=audio)\n",
    "\n",
    "    for result in response.results:\n",
    "        print(f\"Transcripción: {result.alternatives[0].transcript}\")\n"
   ]
  },
  {
   "cell_type": "markdown",
   "metadata": {},
   "source": [
    "## Ejecución del Proyecto\n",
    "- Grabar el audio: Usa la función grabar_audio() para capturar el sonido.\n",
    "- Convertir a FLAC: Si es necesario, convertir_audio() convierte el archivo a FLAC.\n",
    "- Transcribir el audio: transcribir_audio() envía el archivo a la API de Google para obtener la transcripción."
   ]
  },
  {
   "cell_type": "code",
   "execution_count": 31,
   "metadata": {},
   "outputs": [
    {
     "name": "stdout",
     "output_type": "stream",
     "text": [
      "Grabando...\n",
      "Transcripción: hola mundo\n"
     ]
    }
   ],
   "source": [
    "# Grabar audio y transcribir\n",
    "archivo_audio = grabar_audio()\n",
    "transcribir_audio(archivo_audio)"
   ]
  }
 ],
 "metadata": {
  "kernelspec": {
   "display_name": "Python 3.10",
   "language": "python",
   "name": "py310"
  },
  "language_info": {
   "codemirror_mode": {
    "name": "ipython",
    "version": 3
   },
   "file_extension": ".py",
   "mimetype": "text/x-python",
   "name": "python",
   "nbconvert_exporter": "python",
   "pygments_lexer": "ipython3",
   "version": "3.10.11"
  }
 },
 "nbformat": 4,
 "nbformat_minor": 2
}
